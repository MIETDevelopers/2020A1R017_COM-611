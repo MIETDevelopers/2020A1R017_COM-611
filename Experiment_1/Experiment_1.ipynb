{
 "cells": [
  {
   "cell_type": "markdown",
   "id": "d4c5f6b2",
   "metadata": {},
   "source": [
    "06 March 2023:<br/>\n",
    "Implement and demonstrate the Data Processing for finding the most specific hypothesis based on a given set of training data samples.<br/>\n",
    "Read the training data from a .CSV file."
   ]
  },
  {
   "cell_type": "markdown",
   "id": "a6def3da",
   "metadata": {},
   "source": [
    "FIND-S algorithm"
   ]
  },
  {
   "cell_type": "code",
   "execution_count": 1,
   "id": "1da9917a",
   "metadata": {},
   "outputs": [
    {
     "name": "stdout",
     "output_type": "stream",
     "text": [
      "The Given Training Data set \n",
      "\n",
      "['Sunny', 'Warm', 'Normal', 'Strong', 'Warm', 'Same', 'Yes']\n",
      "['Sunny', 'Warm', 'High', 'Strong', 'Warm', 'Same', 'No']\n",
      "['Rainy', 'Cold', 'High', 'Strong', 'Warm', 'Change', 'Yes']\n",
      "['Sunny', 'Warm', 'High', 'Strong', 'Cool', 'Change', 'Yes']\n",
      "\n",
      "The initial value of hypothesis:\n",
      "['0', '0', '0']\n",
      "\n",
      " Find S: Finding a Maximally Specific Hypothesis\n",
      "\n",
      "For Training instance No:0 the hypothesis is ['Sunny', 'Warm', 'Normal']\n",
      "For Training instance No:1 the hypothesis is ['Sunny', 'Warm', 'Normal']\n",
      "For Training instance No:2 the hypothesis is ['Sunny', 'Warm', 'Normal']\n",
      "For Training instance No:3 the hypothesis is ['Sunny', 'Warm', 'Normal']\n",
      "\n",
      " The Maximally Specific Hypothesis for a given Training Examples:\n",
      "\n",
      "['Sunny', 'Warm', 'Normal']\n"
     ]
    }
   ],
   "source": [
    "import csv\n",
    "num_attributes = 3\n",
    "a = []\n",
    "print(\"The Given Training Data set \\n\")\n",
    "with open(\"SampleDataSet.csv\", 'r') as csvfile:\n",
    "    reader = csv.reader(csvfile)\n",
    "    for row in reader:\n",
    "        a.append(row)\n",
    "        print(row)\n",
    "        \n",
    "print(\"\\nThe initial value of hypothesis:\")\n",
    "hypothesis = ['0']*num_attributes\n",
    "print(hypothesis)\n",
    "\n",
    "for j in range(0, num_attributes):\n",
    "    hypothesis[j] = a[0][j];\n",
    "    \n",
    "print(\"\\n Find S: Finding a Maximally Specific Hypothesis\\n\")\n",
    "for i in range(0, len(a)):\n",
    "    if a[i][num_attributes] =='Positive':\n",
    "        for j in range(0, num_attributes):\n",
    "            if a[i][j] != hypothesis[j]:\n",
    "                hypothesis[j] = '?'\n",
    "            else:\n",
    "                hypothesis[j] = a[i][j]\n",
    "    print(\"For Training instance No:{0} the hypothesis is\".format(i), hypothesis)\n",
    "print(\"\\n The Maximally Specific Hypothesis for a given Training Examples:\\n\")\n",
    "print(hypothesis)"
   ]
  },
  {
   "cell_type": "code",
   "execution_count": null,
   "id": "4a2c7ce6",
   "metadata": {},
   "outputs": [],
   "source": []
  }
 ],
 "metadata": {
  "kernelspec": {
   "display_name": "Python 3 (ipykernel)",
   "language": "python",
   "name": "python3"
  },
  "language_info": {
   "codemirror_mode": {
    "name": "ipython",
    "version": 3
   },
   "file_extension": ".py",
   "mimetype": "text/x-python",
   "name": "python",
   "nbconvert_exporter": "python",
   "pygments_lexer": "ipython3",
   "version": "3.10.2"
  }
 },
 "nbformat": 4,
 "nbformat_minor": 5
}
