{
 "cells": [
  {
   "cell_type": "markdown",
   "id": "67cd990b",
   "metadata": {},
   "source": [
    "#### Candidate Elimination <br/>\n",
    "For a given set of training data examples storednin a .CSV file, implement and demostrate the Data Visualization to output a description of the set of all hypotheses consistent with the training examples.<br/>"
   ]
  },
  {
   "cell_type": "code",
   "execution_count": 19,
   "id": "a8624be8",
   "metadata": {},
   "outputs": [],
   "source": [
    "import numpy as np\n",
    "import pandas as pd"
   ]
  },
  {
   "cell_type": "code",
   "execution_count": 20,
   "id": "2b455d9f",
   "metadata": {},
   "outputs": [
    {
     "name": "stdout",
     "output_type": "stream",
     "text": [
      "    Size Color     Shape Class/Label\n",
      "0    Big   Red    Circle          No\n",
      "1  Small   Red  Triangle          No\n",
      "2  Small   Red    Circle         Yes\n",
      "3    Big  Blue    Circle          No\n",
      "4  Small  Blue    Circle         Yes\n"
     ]
    }
   ],
   "source": [
    "data = pd.DataFrame(data = pd.read_csv(\"C:\\\\Users\\\\LENOVO\\\\Downloads\\\\DataSets\\\\DataSet3.csv\"))\n",
    "print(data)"
   ]
  },
  {
   "cell_type": "code",
   "execution_count": 21,
   "id": "5a74750c",
   "metadata": {},
   "outputs": [
    {
     "name": "stdout",
     "output_type": "stream",
     "text": [
      "[['Big' 'Red' 'Circle']\n",
      " ['Small' 'Red' 'Triangle']\n",
      " ['Small' 'Red' 'Circle']\n",
      " ['Big' 'Blue' 'Circle']\n",
      " ['Small' 'Blue' 'Circle']]\n"
     ]
    }
   ],
   "source": [
    "concept = np.array(data.iloc[:, 0:-1])\n",
    "print(concept)"
   ]
  },
  {
   "cell_type": "code",
   "execution_count": 22,
   "id": "6777f71f",
   "metadata": {},
   "outputs": [
    {
     "name": "stdout",
     "output_type": "stream",
     "text": [
      "['No' 'No' 'Yes' 'No' 'Yes']\n"
     ]
    }
   ],
   "source": [
    "target = np.array(data.iloc[:,-1])\n",
    "print(target)"
   ]
  },
  {
   "cell_type": "code",
   "execution_count": 28,
   "id": "ecfef2d5",
   "metadata": {},
   "outputs": [],
   "source": [
    "def learn(concepts, target):\n",
    "    \"\"\"\n",
    "    learn() function implements the learning method of the candidate elimination algorithm.\n",
    "    Arguments:\n",
    "        concepts - a data frame with all the features\n",
    "        target - a data frame with corresponding output values\n",
    "    \"\"\"\n",
    "    \n",
    "    # Initialise S0 with the first instance from concepts\n",
    "    #.copy() maes sure a new list is created instead of just pointing to the same memory location\n",
    "    specific_h = concepts[0].copy()\n",
    "        \n",
    "    print(\"\\nInitialization of specific_h and general_h\")\n",
    "    print(specific_h)\n",
    "    \n",
    "    general_h = [[\"?\" for i in range(len(specific_h))] for i in range(len(specific_h))]\n",
    "    print(general_h)\n",
    "    \n",
    "    # Learning iterations\n",
    "    for i, h in enumerate(concepts):\n",
    "        \n",
    "        # Checking if the hypothesis has a positive target\n",
    "        if target[i] == \"Yes\":\n",
    "            for x in range(len(specific_h)):\n",
    "                \n",
    "                # Change values in S & G only if values change\n",
    "                if h[x] != specific_h[x]:\n",
    "                    specific_h[x] = \"?\"\n",
    "                    general_h[x][x] = \"?\"\n",
    "        \n",
    "        # Checking if the hypothesis has a negative target\n",
    "        if target[i] == \"No\":\n",
    "            for x in range(len(specific_h)):\n",
    "                \n",
    "                if h[x] != specific_h[x]:\n",
    "                    general_h[x][x] = specific_h[x]\n",
    "                else:\n",
    "                    general_h[x][x] = \"?\"\n",
    "                    \n",
    "        print(\"\\nSteps of Candidate Elimination Algorithm\", i+1)\n",
    "        print(specific_h)\n",
    "        print(general_h)\n",
    "    \n",
    "    indices = [i for i, val in enumerate(general_h) if val == ['?', '?', '?', '?', '?', '?']]          \n",
    "    for i in indices:\n",
    "            #remove those rows from general_h\n",
    "            general_h.remove(['?', '?','?', '?','?', '?'])\n",
    "    # Return Final Values\n",
    "    return specific_h, general_h"
   ]
  },
  {
   "cell_type": "code",
   "execution_count": 29,
   "id": "f754dac7",
   "metadata": {},
   "outputs": [
    {
     "name": "stdout",
     "output_type": "stream",
     "text": [
      "\n",
      "Initialization of specific_h and general_h\n",
      "['Big' 'Red' 'Circle']\n",
      "[['?', '?', '?'], ['?', '?', '?'], ['?', '?', '?']]\n",
      "\n",
      "Steps of Candidate Elimination Algorithm 1\n",
      "['Big' 'Red' 'Circle']\n",
      "[['?', '?', '?'], ['?', '?', '?'], ['?', '?', '?']]\n",
      "\n",
      "Steps of Candidate Elimination Algorithm 2\n",
      "['Big' 'Red' 'Circle']\n",
      "[['Big', '?', '?'], ['?', '?', '?'], ['?', '?', 'Circle']]\n",
      "\n",
      "Steps of Candidate Elimination Algorithm 3\n",
      "['?' 'Red' 'Circle']\n",
      "[['?', '?', '?'], ['?', '?', '?'], ['?', '?', 'Circle']]\n",
      "\n",
      "Steps of Candidate Elimination Algorithm 4\n",
      "['?' 'Red' 'Circle']\n",
      "[['?', '?', '?'], ['?', 'Red', '?'], ['?', '?', '?']]\n",
      "\n",
      "Steps of Candidate Elimination Algorithm 5\n",
      "['?' '?' 'Circle']\n",
      "[['?', '?', '?'], ['?', '?', '?'], ['?', '?', '?']]\n",
      "\n",
      "Final Specific_h:\n",
      "['?' '?' 'Circle']\n",
      "\n",
      "Final General_h:\n",
      "[['?', '?', '?'], ['?', '?', '?'], ['?', '?', '?']]\n"
     ]
    }
   ],
   "source": [
    "s_final, g_final = learn(concept, target)\n",
    "print(\"\\nFinal Specific_h:\", s_final, sep=\"\\n\")\n",
    "print(\"\\nFinal General_h:\", g_final, sep=\"\\n\")"
   ]
  }
 ],
 "metadata": {
  "kernelspec": {
   "display_name": "Python 3 (ipykernel)",
   "language": "python",
   "name": "python3"
  },
  "language_info": {
   "codemirror_mode": {
    "name": "ipython",
    "version": 3
   },
   "file_extension": ".py",
   "mimetype": "text/x-python",
   "name": "python",
   "nbconvert_exporter": "python",
   "pygments_lexer": "ipython3",
   "version": "3.10.2"
  }
 },
 "nbformat": 4,
 "nbformat_minor": 5
}
