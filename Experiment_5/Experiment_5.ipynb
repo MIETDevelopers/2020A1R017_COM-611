{
 "cells": [
  {
   "cell_type": "markdown",
   "id": "30a62f54",
   "metadata": {},
   "source": [
    "### Linear Regression on salary Prodiction based on given dataset"
   ]
  },
  {
   "cell_type": "code",
   "execution_count": 2,
   "id": "d373a90f",
   "metadata": {},
   "outputs": [],
   "source": [
    "#import warnings\n",
    "%matplotlib inline\n",
    "import warnings\n",
    "warnings.filterwarnings('ignore')  #ignore any warning messages that might be generated during execution."
   ]
  },
  {
   "cell_type": "code",
   "execution_count": 3,
   "id": "2d564dc5",
   "metadata": {},
   "outputs": [],
   "source": [
    "#seaborn - data visualization based on matplotlib\n",
    "#sklearn.model_selection  - splitting the data into train and test datsset\n",
    "#statsmodels.api  - \n",
    "#sklearn.metrics  - povides  a suite of evaluation metrics"
   ]
  },
  {
   "cell_type": "code",
   "execution_count": 4,
   "id": "2a4f5b8f",
   "metadata": {},
   "outputs": [],
   "source": [
    "#import libraries\n",
    "\n",
    "import numpy as np\n",
    "import pandas as pd\n",
    "import matplotlib.pyplot as plt\n",
    "import seaborn as sns\n",
    "from sklearn.model_selection import train_test_split\n",
    "import statsmodels.api as sm\n",
    "from sklearn.metrics import mean_squared_error\n",
    "from sklearn.metrics import r2_score"
   ]
  },
  {
   "cell_type": "code",
   "execution_count": 28,
   "id": "63eb2026",
   "metadata": {},
   "outputs": [
    {
     "data": {
      "text/html": [
       "<div>\n",
       "<style scoped>\n",
       "    .dataframe tbody tr th:only-of-type {\n",
       "        vertical-align: middle;\n",
       "    }\n",
       "\n",
       "    .dataframe tbody tr th {\n",
       "        vertical-align: top;\n",
       "    }\n",
       "\n",
       "    .dataframe thead th {\n",
       "        text-align: right;\n",
       "    }\n",
       "</style>\n",
       "<table border=\"1\" class=\"dataframe\">\n",
       "  <thead>\n",
       "    <tr style=\"text-align: right;\">\n",
       "      <th></th>\n",
       "      <th>YearsExperience</th>\n",
       "      <th>Salary</th>\n",
       "    </tr>\n",
       "  </thead>\n",
       "  <tbody>\n",
       "    <tr>\n",
       "      <th>0</th>\n",
       "      <td>1.1</td>\n",
       "      <td>39343.0</td>\n",
       "    </tr>\n",
       "    <tr>\n",
       "      <th>1</th>\n",
       "      <td>1.3</td>\n",
       "      <td>46205.0</td>\n",
       "    </tr>\n",
       "    <tr>\n",
       "      <th>2</th>\n",
       "      <td>1.5</td>\n",
       "      <td>37731.0</td>\n",
       "    </tr>\n",
       "    <tr>\n",
       "      <th>3</th>\n",
       "      <td>2.0</td>\n",
       "      <td>43525.0</td>\n",
       "    </tr>\n",
       "    <tr>\n",
       "      <th>4</th>\n",
       "      <td>2.2</td>\n",
       "      <td>39891.0</td>\n",
       "    </tr>\n",
       "  </tbody>\n",
       "</table>\n",
       "</div>"
      ],
      "text/plain": [
       "   YearsExperience   Salary\n",
       "0              1.1  39343.0\n",
       "1              1.3  46205.0\n",
       "2              1.5  37731.0\n",
       "3              2.0  43525.0\n",
       "4              2.2  39891.0"
      ]
     },
     "execution_count": 28,
     "metadata": {},
     "output_type": "execute_result"
    }
   ],
   "source": [
    "#import data\n",
    "data = pd.read_csv('Salary_Data.csv')\n",
    "data.head()"
   ]
  },
  {
   "cell_type": "code",
   "execution_count": 29,
   "id": "6eadc897",
   "metadata": {},
   "outputs": [
    {
     "data": {
      "text/plain": [
       "(30, 2)"
      ]
     },
     "execution_count": 29,
     "metadata": {},
     "output_type": "execute_result"
    }
   ],
   "source": [
    "data.shape"
   ]
  },
  {
   "cell_type": "code",
   "execution_count": 30,
   "id": "89409aa6",
   "metadata": {},
   "outputs": [
    {
     "data": {
      "text/html": [
       "<div>\n",
       "<style scoped>\n",
       "    .dataframe tbody tr th:only-of-type {\n",
       "        vertical-align: middle;\n",
       "    }\n",
       "\n",
       "    .dataframe tbody tr th {\n",
       "        vertical-align: top;\n",
       "    }\n",
       "\n",
       "    .dataframe thead th {\n",
       "        text-align: right;\n",
       "    }\n",
       "</style>\n",
       "<table border=\"1\" class=\"dataframe\">\n",
       "  <thead>\n",
       "    <tr style=\"text-align: right;\">\n",
       "      <th></th>\n",
       "      <th>YearsExperience</th>\n",
       "      <th>Salary</th>\n",
       "    </tr>\n",
       "  </thead>\n",
       "  <tbody>\n",
       "    <tr>\n",
       "      <th>count</th>\n",
       "      <td>30.000000</td>\n",
       "      <td>30.000000</td>\n",
       "    </tr>\n",
       "    <tr>\n",
       "      <th>mean</th>\n",
       "      <td>5.313333</td>\n",
       "      <td>76003.000000</td>\n",
       "    </tr>\n",
       "    <tr>\n",
       "      <th>std</th>\n",
       "      <td>2.837888</td>\n",
       "      <td>27414.429785</td>\n",
       "    </tr>\n",
       "    <tr>\n",
       "      <th>min</th>\n",
       "      <td>1.100000</td>\n",
       "      <td>37731.000000</td>\n",
       "    </tr>\n",
       "    <tr>\n",
       "      <th>25%</th>\n",
       "      <td>3.200000</td>\n",
       "      <td>56720.750000</td>\n",
       "    </tr>\n",
       "    <tr>\n",
       "      <th>50%</th>\n",
       "      <td>4.700000</td>\n",
       "      <td>65237.000000</td>\n",
       "    </tr>\n",
       "    <tr>\n",
       "      <th>75%</th>\n",
       "      <td>7.700000</td>\n",
       "      <td>100544.750000</td>\n",
       "    </tr>\n",
       "    <tr>\n",
       "      <th>max</th>\n",
       "      <td>10.500000</td>\n",
       "      <td>122391.000000</td>\n",
       "    </tr>\n",
       "  </tbody>\n",
       "</table>\n",
       "</div>"
      ],
      "text/plain": [
       "       YearsExperience         Salary\n",
       "count        30.000000      30.000000\n",
       "mean          5.313333   76003.000000\n",
       "std           2.837888   27414.429785\n",
       "min           1.100000   37731.000000\n",
       "25%           3.200000   56720.750000\n",
       "50%           4.700000   65237.000000\n",
       "75%           7.700000  100544.750000\n",
       "max          10.500000  122391.000000"
      ]
     },
     "execution_count": 30,
     "metadata": {},
     "output_type": "execute_result"
    }
   ],
   "source": [
    "data.describe()"
   ]
  },
  {
   "cell_type": "markdown",
   "id": "cc63139d",
   "metadata": {},
   "source": [
    "Visualize data "
   ]
  },
  {
   "cell_type": "code",
   "execution_count": 31,
   "id": "149a4db3",
   "metadata": {
    "scrolled": true
   },
   "outputs": [
    {
     "data": {
      "text/plain": [
       "<seaborn.axisgrid.PairGrid at 0x270b4432200>"
      ]
     },
     "execution_count": 31,
     "metadata": {},
     "output_type": "execute_result"
    },
    {
     "data": {
      "image/png": "[encoded data removed]",
      "text/plain": [
       "<Figure size 250x250 with 1 Axes>"
      ]
     },
     "metadata": {},
     "output_type": "display_data"
    }
   ],
   "source": [
    "sns.pairplot(y_vars = 'Salary', x_vars = 'YearsExperience' ,data = data)"
   ]
  },
  {
   "cell_type": "markdown",
   "id": "c4c85152",
   "metadata": {},
   "source": [
    "Checking corealtion of data"
   ]
  },
  {
   "cell_type": "code",
   "execution_count": 32,
   "id": "af009387",
   "metadata": {},
   "outputs": [
    {
     "data": {
      "text/html": [
       "<div>\n",
       "<style scoped>\n",
       "    .dataframe tbody tr th:only-of-type {\n",
       "        vertical-align: middle;\n",
       "    }\n",
       "\n",
       "    .dataframe tbody tr th {\n",
       "        vertical-align: top;\n",
       "    }\n",
       "\n",
       "    .dataframe thead th {\n",
       "        text-align: right;\n",
       "    }\n",
       "</style>\n",
       "<table border=\"1\" class=\"dataframe\">\n",
       "  <thead>\n",
       "    <tr style=\"text-align: right;\">\n",
       "      <th></th>\n",
       "      <th>YearsExperience</th>\n",
       "      <th>Salary</th>\n",
       "    </tr>\n",
       "  </thead>\n",
       "  <tbody>\n",
       "    <tr>\n",
       "      <th>YearsExperience</th>\n",
       "      <td>1.000000</td>\n",
       "      <td>0.978242</td>\n",
       "    </tr>\n",
       "    <tr>\n",
       "      <th>Salary</th>\n",
       "      <td>0.978242</td>\n",
       "      <td>1.000000</td>\n",
       "    </tr>\n",
       "  </tbody>\n",
       "</table>\n",
       "</div>"
      ],
      "text/plain": [
       "                 YearsExperience    Salary\n",
       "YearsExperience         1.000000  0.978242\n",
       "Salary                  0.978242  1.000000"
      ]
     },
     "execution_count": 32,
     "metadata": {},
     "output_type": "execute_result"
    }
   ],
   "source": [
    "data.corr()  #helps us to find the corelation between two attributes"
   ]
  },
  {
   "cell_type": "markdown",
   "id": "59970e0a",
   "metadata": {},
   "source": [
    "#### Data Preparation"
   ]
  },
  {
   "cell_type": "code",
   "execution_count": 33,
   "id": "13be08c4",
   "metadata": {},
   "outputs": [],
   "source": [
    "x = data['YearsExperience']\n",
    "y = data['Salary']"
   ]
  },
  {
   "cell_type": "code",
   "execution_count": 34,
   "id": "95bba99d",
   "metadata": {},
   "outputs": [],
   "source": [
    "#splitting test data and training data\n",
    "x_train,x_test,y_train,y_test = train_test_split(x,y,train_size = 0.7,test_size = 0.3,random_state = 100)"
   ]
  },
  {
   "cell_type": "code",
   "execution_count": 35,
   "id": "af9acb60",
   "metadata": {},
   "outputs": [
    {
     "data": {
      "text/plain": [
       "(21,)"
      ]
     },
     "execution_count": 35,
     "metadata": {},
     "output_type": "execute_result"
    }
   ],
   "source": [
    "x_train.shape"
   ]
  },
  {
   "cell_type": "code",
   "execution_count": 36,
   "id": "474e7164",
   "metadata": {},
   "outputs": [
    {
     "data": {
      "text/plain": [
       "(9,)"
      ]
     },
     "execution_count": 36,
     "metadata": {},
     "output_type": "execute_result"
    }
   ],
   "source": [
    "x_test.shape"
   ]
  },
  {
   "cell_type": "markdown",
   "id": "20502d53",
   "metadata": {},
   "source": [
    "#### Implement ordinary least squares (OLS) linear regression the statsmodels library:"
   ]
  },
  {
   "cell_type": "markdown",
   "id": "a2f205b4",
   "metadata": {},
   "source": [
    "x_train_sm = sm.add_constant(x_train): This adds a column of 1s to the x_train DataFrame, which serves as the intercept <br/> term in the regression model. The resulting DataFrame x_train_sm is used in the regression model fiting.\n",
    "\n",
    "model = sm.OLS(y_train, x_train_sm).fit(): This fits an OLS linear regression model using x_train_sm as the independent <br/>variables and y_train as the dependent variable.\n",
    "\n",
    "The .fit() method returns a Regression results object that contains the results of the regression, including the estimated<br/> coefficeints, standard errors, I-values, p-values, and other statistics."
   ]
  },
  {
   "cell_type": "code",
   "execution_count": 37,
   "id": "fa8fc148",
   "metadata": {},
   "outputs": [],
   "source": [
    "x_train_sm = sm.add_constant(x_train)\n",
    "model = sm.OLS(y_train,x_train_sm).fit()"
   ]
  },
  {
   "cell_type": "code",
   "execution_count": 38,
   "id": "e575da35",
   "metadata": {},
   "outputs": [
    {
     "name": "stdout",
     "output_type": "stream",
     "text": [
      "                            OLS Regression Results                            \n",
      "==============================================================================\n",
      "Dep. Variable:                 Salary   R-squared:                       0.949\n",
      "Model:                            OLS   Adj. R-squared:                  0.946\n",
      "Method:                 Least Squares   F-statistic:                     352.9\n",
      "Date:                Sat, 06 May 2023   Prob (F-statistic):           9.91e-14\n",
      "Time:                        23:44:42   Log-Likelihood:                -211.80\n",
      "No. Observations:                  21   AIC:                             427.6\n",
      "Df Residuals:                      19   BIC:                             429.7\n",
      "Df Model:                           1                                         \n",
      "Covariance Type:            nonrobust                                         \n",
      "===================================================================================\n",
      "                      coef    std err          t      P>|t|      [0.025      0.975]\n",
      "-----------------------------------------------------------------------------------\n",
      "const             2.52e+04   2875.387      8.765      0.000    1.92e+04    3.12e+04\n",
      "YearsExperience  9731.2038    517.993     18.786      0.000    8647.033    1.08e+04\n",
      "==============================================================================\n",
      "Omnibus:                        1.843   Durbin-Watson:                   1.749\n",
      "Prob(Omnibus):                  0.398   Jarque-Bera (JB):                1.106\n",
      "Skew:                           0.219   Prob(JB):                        0.575\n",
      "Kurtosis:                       1.964   Cond. No.                         12.3\n",
      "==============================================================================\n",
      "\n",
      "Notes:\n",
      "[1] Standard Errors assume that the covariance matrix of the errors is correctly specified.\n"
     ]
    }
   ],
   "source": [
    "print(model.summary())"
   ]
  },
  {
   "cell_type": "markdown",
   "id": "165daf74",
   "metadata": {},
   "source": [
    "So our linear regression equation is:<br/>\n",
    "y = mx+c <br/>\n",
    "<b> Salary = 25200 + yearsExperience * 9731.2038 </b>"
   ]
  },
  {
   "cell_type": "code",
   "execution_count": 39,
   "id": "d667daae",
   "metadata": {},
   "outputs": [
    {
     "data": {
      "image/png": "[encoded data removed]",
      "text/plain": [
       "<Figure size 640x480 with 1 Axes>"
      ]
     },
     "metadata": {},
     "output_type": "display_data"
    }
   ],
   "source": [
    "# let us show the line fitting:\n",
    "plt.scatter(x_train, y_train)\n",
    "plt.plot(x_train, 25200 + x_train * 9731.2038, 'r')\n",
    "plt.xlabel(\"Years of Experience\")\n",
    "plt.ylabel(\"Salary\")\n",
    "plt.show()"
   ]
  },
  {
   "cell_type": "markdown",
   "id": "2b073bbd",
   "metadata": {},
   "source": [
    "#### Residual Analysis:"
   ]
  },
  {
   "cell_type": "code",
   "execution_count": 40,
   "id": "76bacae0",
   "metadata": {},
   "outputs": [],
   "source": [
    "y_train_pred = model.predict(x_train_sm)"
   ]
  },
  {
   "cell_type": "code",
   "execution_count": 41,
   "id": "2fd5dcd1",
   "metadata": {},
   "outputs": [
    {
     "data": {
      "text/plain": [
       "17     76778.268129\n",
       "22    102079.398108\n",
       "11     64127.703139\n",
       "4      46611.536230\n",
       "29    127380.528088\n",
       "dtype: float64"
      ]
     },
     "execution_count": 41,
     "metadata": {},
     "output_type": "execute_result"
    }
   ],
   "source": [
    "y_train_pred.head()"
   ]
  },
  {
   "cell_type": "code",
   "execution_count": 42,
   "id": "cfbf6527",
   "metadata": {},
   "outputs": [],
   "source": [
    "residual = (y_train - y_train_pred)"
   ]
  },
  {
   "cell_type": "code",
   "execution_count": 43,
   "id": "1957f112",
   "metadata": {},
   "outputs": [
    {
     "data": {
      "text/plain": [
       "17    6309.731871\n",
       "22    -777.398108\n",
       "11   -8333.703139\n",
       "4    -6720.536230\n",
       "29   -5508.528088\n",
       "dtype: float64"
      ]
     },
     "execution_count": 43,
     "metadata": {},
     "output_type": "execute_result"
    }
   ],
   "source": [
    "residual.head()"
   ]
  },
  {
   "cell_type": "markdown",
   "id": "5cad1b99",
   "metadata": {},
   "source": [
    "If Actual - predicted is -ve --> Too High <br/>\n",
    "If Actual - predicted is +ve --> Too Low <br/>"
   ]
  },
  {
   "cell_type": "code",
   "execution_count": 44,
   "id": "3306e310",
   "metadata": {},
   "outputs": [
    {
     "data": {
      "text/plain": [
       "<AxesSubplot:ylabel='Density'>"
      ]
     },
     "execution_count": 44,
     "metadata": {},
     "output_type": "execute_result"
    },
    {
     "data": {
      "image/png": "[encoded data removed]",
      "text/plain": [
       "<Figure size 640x480 with 1 Axes>"
      ]
     },
     "metadata": {},
     "output_type": "display_data"
    }
   ],
   "source": [
    "sns.distplot(residual)"
   ]
  },
  {
   "cell_type": "code",
   "execution_count": 45,
   "id": "532a168d",
   "metadata": {},
   "outputs": [
    {
     "data": {
      "text/plain": [
       "<AxesSubplot:xlabel='YearsExperience'>"
      ]
     },
     "execution_count": 45,
     "metadata": {},
     "output_type": "execute_result"
    },
    {
     "data": {
      "image/png": "[encoded data removed]",
      "text/plain": [
       "<Figure size 640x480 with 1 Axes>"
      ]
     },
     "metadata": {},
     "output_type": "display_data"
    }
   ],
   "source": [
    "# sns.scatterplot(x_train, residual)\n",
    "sns.scatterplot(x_train, y=residual)"
   ]
  },
  {
   "cell_type": "markdown",
   "id": "020dc16e",
   "metadata": {},
   "source": [
    "#### Prediction on the test data:"
   ]
  },
  {
   "cell_type": "code",
   "execution_count": 46,
   "id": "7ab31194",
   "metadata": {},
   "outputs": [],
   "source": [
    "x_test_sm = sm.add_constant(x_test)"
   ]
  },
  {
   "cell_type": "code",
   "execution_count": 47,
   "id": "f9c0cecb",
   "metadata": {},
   "outputs": [],
   "source": [
    "y_pred = model.predict(x_test_sm)"
   ]
  },
  {
   "cell_type": "markdown",
   "id": "b56efa4c",
   "metadata": {},
   "source": [
    "#### Root mean square error:"
   ]
  },
  {
   "cell_type": "code",
   "execution_count": 48,
   "id": "1085619a",
   "metadata": {},
   "outputs": [
    {
     "data": {
      "text/plain": [
       "5505.47900217612"
      ]
     },
     "execution_count": 48,
     "metadata": {},
     "output_type": "execute_result"
    }
   ],
   "source": [
    "RMSE = np.sqrt(mean_squared_error(y_test, y_pred))\n",
    "RMSE"
   ]
  },
  {
   "cell_type": "markdown",
   "id": "aa518481",
   "metadata": {},
   "source": [
    "RMSE won't siggest anything as we do not have any model to compare"
   ]
  },
  {
   "cell_type": "markdown",
   "id": "eede7794",
   "metadata": {},
   "source": [
    "#### R2"
   ]
  },
  {
   "cell_type": "code",
   "execution_count": 49,
   "id": "aa17ff76",
   "metadata": {},
   "outputs": [
    {
     "data": {
      "text/plain": [
       "0.9627668685473271"
      ]
     },
     "execution_count": 49,
     "metadata": {},
     "output_type": "execute_result"
    }
   ],
   "source": [
    "r2_score(y_test, y_pred)"
   ]
  },
  {
   "cell_type": "markdown",
   "id": "be6301d8",
   "metadata": {},
   "source": [
    "#### The model explains 96.27% of variance."
   ]
  },
  {
   "cell_type": "code",
   "execution_count": 50,
   "id": "ce3c0594",
   "metadata": {},
   "outputs": [
    {
     "data": {
      "image/png": "[encoded data removed]",
      "text/plain": [
       "<Figure size 640x480 with 1 Axes>"
      ]
     },
     "metadata": {},
     "output_type": "display_data"
    }
   ],
   "source": [
    "# let us show the line fitting\n",
    "plt.scatter(x_test, y_test)\n",
    "plt.plot(x_test, 25200 + x_test * 9731.2038, 'r')\n",
    "plt.show()"
   ]
  }
 ],
 "metadata": {
  "kernelspec": {
   "display_name": "Python 3 (ipykernel)",
   "language": "python",
   "name": "python3"
  },
  "language_info": {
   "codemirror_mode": {
    "name": "ipython",
    "version": 3
   },
   "file_extension": ".py",
   "mimetype": "text/x-python",
   "name": "python",
   "nbconvert_exporter": "python",
   "pygments_lexer": "ipython3",
   "version": "3.10.2"
  }
 },
 "nbformat": 4,
 "nbformat_minor": 5
}
