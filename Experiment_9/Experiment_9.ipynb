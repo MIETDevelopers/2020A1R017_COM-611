{
 "cells": [
  {
   "cell_type": "markdown",
   "id": "ec6942fe",
   "metadata": {},
   "source": [
    "### Implement the detection of Eye or face or Smile from the image."
   ]
  },
  {
   "cell_type": "code",
   "execution_count": 40,
   "id": "0afacd43",
   "metadata": {},
   "outputs": [],
   "source": [
    "import numpy as np\n",
    "import cv2"
   ]
  },
  {
   "cell_type": "code",
   "execution_count": 41,
   "id": "0499abd3",
   "metadata": {},
   "outputs": [],
   "source": [
    "# load models\n",
    "face_cascade = cv2.CascadeClassifier(cv2.data.haarcascades + 'haarcascade_frontalface_default.xml')\n",
    "eye_cascade = cv2.CascadeClassifier(cv2.data.haarcascades + 'haarcascade_eye.xml')\n",
    "smile_cascade = cv2.CascadeClassifier(cv2.data.haarcascades + 'haarcascade_smile.xml')"
   ]
  },
  {
   "cell_type": "code",
   "execution_count": 42,
   "id": "539b5a5a",
   "metadata": {},
   "outputs": [],
   "source": [
    "img = cv2.imread(\"family1.jpg\")  # Load image\n",
    "cv2.imshow(\"Image\", img)  # Display the image\n",
    "cv2.waitKey(0)  # Wait for a key press\n",
    "cv2.destroyAllWindows()  # Close all windows"
   ]
  },
  {
   "cell_type": "code",
   "execution_count": 43,
   "id": "183144bc",
   "metadata": {},
   "outputs": [],
   "source": [
    "gray = cv2.cvtColor(img, cv2.COLOR_BGR2GRAY)  # Convert to grayscale\n",
    "cv2.imshow(\"Grayscale Image\", gray)  # Display the grayscale image\n",
    "cv2.waitKey(0)  # Wait for a key press\n",
    "cv2.destroyAllWindows()  # Close all windows"
   ]
  },
  {
   "cell_type": "code",
   "execution_count": 44,
   "id": "ab9ada02",
   "metadata": {},
   "outputs": [],
   "source": [
    "# detect\n",
    "face_cascade = cv2.CascadeClassifier(cv2.data.haarcascades + 'haarcascade_frontalface_default.xml')\n",
    "eye_cascade = cv2.CascadeClassifier(cv2.data.haarcascades + 'haarcascade_eye.xml')\n",
    "smile_cascade = cv2.CascadeClassifier(cv2.data.haarcascades + 'haarcascade_smile.xml')\n",
    "\n",
    "faces = face_cascade.detectMultiScale(gray, 1.3, 5)"
   ]
  },
  {
   "cell_type": "code",
   "execution_count": 45,
   "id": "1e59c723",
   "metadata": {},
   "outputs": [],
   "source": [
    "# draw bounding boxes for each face detected\n",
    "for (x,y,w,h) in faces:\n",
    "    img = cv2.rectangle(img, (x,y), (x + w, y + h), (255,0,0), 2)\n",
    "    roi_gray = gray[y:y+h, x:x+w] # roi: region of interest\n",
    "    roi_color = img[y:y+h, x:x+w]\n",
    "    eyes = eye_cascade.detectMultiScale(roi_gray)\n",
    "    for (ex,ey,ew,eh) in eyes:\n",
    "        cv2.rectangle(roi_color,(ex,ey),(ex+ew,ey+eh),(0,255,0),2)"
   ]
  },
  {
   "cell_type": "code",
   "execution_count": 46,
   "id": "a2f79273",
   "metadata": {},
   "outputs": [],
   "source": [
    "cv2.imshow(\"\", img)\n",
    "cv2.waitKey(0)\n",
    "cv2.destroyAllWindows()"
   ]
  },
  {
   "cell_type": "code",
   "execution_count": 54,
   "id": "d68e7099",
   "metadata": {},
   "outputs": [],
   "source": [
    "img2 = cv2.imread(\"family2.jpg\")  # Load image\n",
    "new = cv2.resize(img2, (640, 400))\n",
    "cv2.imshow(\"Image\", new)  # Display the image\n",
    "cv2.waitKey(0)  # Wait for a key press\n",
    "cv2.destroyAllWindows()  # Close all windows"
   ]
  },
  {
   "cell_type": "code",
   "execution_count": 48,
   "id": "fab6548a",
   "metadata": {},
   "outputs": [],
   "source": [
    "gray = cv2.cvtColor(new, cv2.COLOR_BGR2GRAY) # convert to gray scale"
   ]
  },
  {
   "cell_type": "code",
   "execution_count": 49,
   "id": "71d00046",
   "metadata": {},
   "outputs": [],
   "source": [
    "# detect\n",
    "faces = face_cascade.detectMultiScale(gray, 1.3, 5)"
   ]
  },
  {
   "cell_type": "code",
   "execution_count": 52,
   "id": "95fe65aa",
   "metadata": {},
   "outputs": [],
   "source": [
    "# draw bounding boxes for each face detected\n",
    "for (x,y,w,h) in faces:\n",
    "    img = cv2.rectangle(new, (x,y), (x + w, y + h), (255,0,0), 2)\n",
    "    roi_gray = gray[y:y+h, x:x+w] # roi: region of interest\n",
    "    roi_color = img[y:y+h, x:x+w]\n",
    "\n",
    "    eyes = eye_cascade.detectMultiScale(roi_gray)\n",
    "    for (ex,ey,ew,eh) in eyes:\n",
    "      cv2.rectangle(roi_color,(ex,ey),(ex+ew,ey+eh),(0,255,0),2)\n",
    "\n",
    "    smiles = smile_cascade.detectMultiScale(roi_gray)\n",
    "    for (sx, sy, sw, sh) in smiles:\n",
    "      cv2.rectangle(roi_color, (sx, sy), ((sx + sw), (sy + sh)), (0, 0, 255), 2)"
   ]
  },
  {
   "cell_type": "code",
   "execution_count": 53,
   "id": "bb519ce6",
   "metadata": {},
   "outputs": [],
   "source": [
    "cv2.imshow(\"Image\", new)\n",
    "cv2.waitKey(0)\n",
    "cv2.destroyAllWindows()"
   ]
  },
  {
   "cell_type": "code",
   "execution_count": null,
   "id": "b49bc451",
   "metadata": {},
   "outputs": [],
   "source": []
  }
 ],
 "metadata": {
  "kernelspec": {
   "display_name": "Python 3 (ipykernel)",
   "language": "python",
   "name": "python3"
  },
  "language_info": {
   "codemirror_mode": {
    "name": "ipython",
    "version": 3
   },
   "file_extension": ".py",
   "mimetype": "text/x-python",
   "name": "python",
   "nbconvert_exporter": "python",
   "pygments_lexer": "ipython3",
   "version": "3.10.2"
  }
 },
 "nbformat": 4,
 "nbformat_minor": 5
}
